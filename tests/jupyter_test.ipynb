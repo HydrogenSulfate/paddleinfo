{
 "cells": [
  {
   "cell_type": "code",
   "execution_count": 1,
   "metadata": {},
   "outputs": [
    {
     "name": "stderr",
     "output_type": "stream",
     "text": [
      "W1014 21:20:00.327103 14157 gpu_resources.cc:114] Please NOTE: device: 0, GPU Compute Capability: 8.0, Driver API Version: 12.6, Runtime API Version: 12.6\n"
     ]
    }
   ],
   "source": [
    "import paddle\n",
    "import paddle.nn as nn\n",
    "from paddle.nn import functional as F\n",
    "from paddleinfo import summary\n",
    "\n",
    "class SingleInputNet(nn.Layer):\n",
    "    \"\"\" Simple CNN model. \"\"\"\n",
    "    def __init__(self) -> None:\n",
    "        super().__init__()\n",
    "        self.conv1 = nn.Conv2D(1, 10, kernel_size=5)\n",
    "        self.conv2 = nn.Conv2D(10, 20, kernel_size=5)\n",
    "        self.conv2_drop = nn.Dropout2D(0.3)\n",
    "        self.fc1 = nn.Linear(320, 50)\n",
    "        self.fc2 = nn.Linear(50, 10)\n",
    "    def forward(self, x: paddle.Tensor) -> paddle.Tensor:\n",
    "        x = F.relu(F.max_pool2d(self.conv1(x), 2))\n",
    "        x = F.relu(F.max_pool2d(self.conv2_drop(self.conv2(x)), 2))\n",
    "        x = x.view([-1, 320])\n",
    "        x = F.relu(self.fc1(x))\n",
    "        x = self.fc2(x)\n",
    "        return F.log_softmax(x, axis=1)\n",
    "\n",
    "model = SingleInputNet()\n",
    "input_size = (2, 1, 28, 28)"
   ]
  },
  {
   "cell_type": "code",
   "execution_count": 2,
   "metadata": {},
   "outputs": [
    {
     "data": {
      "text/plain": [
       "==========================================================================================\n",
       "Layer (type:depth-idx)                   Output Shape              Param #\n",
       "==========================================================================================\n",
       "SingleInputNet                           [2, 10]                   --\n",
       "├─Conv2D: 1-1                            [2, 10, 24, 24]           260\n",
       "├─Conv2D: 1-2                            [2, 20, 8, 8]             5,020\n",
       "├─Dropout2D: 1-3                         [2, 20, 8, 8]             --\n",
       "├─Linear: 1-4                            [2, 50]                   16,050\n",
       "├─Linear: 1-5                            [2, 10]                   510\n",
       "==========================================================================================\n",
       "Total params: 21,840\n",
       "Trainable params: 21,840\n",
       "Non-trainable params: 0\n",
       "Total mult-adds (k): 975.20\n",
       "==========================================================================================\n",
       "Input size (kB): 6.27\n",
       "Forward/backward pass size (kB): 113.60\n",
       "Params size (kB): 87.36\n",
       "Estimated Total Size (kB): 207.23\n",
       "=========================================================================================="
      ]
     },
     "execution_count": 2,
     "metadata": {},
     "output_type": "execute_result"
    }
   ],
   "source": [
    "summary(model, input_size=input_size, verbose=0)"
   ]
  },
  {
   "cell_type": "code",
   "execution_count": 3,
   "metadata": {},
   "outputs": [
    {
     "data": {
      "text/plain": [
       "==========================================================================================\n",
       "Layer (type:depth-idx)                   Output Shape              Param #\n",
       "==========================================================================================\n",
       "SingleInputNet                           [2, 10]                   --\n",
       "├─Conv2D: 1-1                            [2, 10, 24, 24]           260\n",
       "├─Conv2D: 1-2                            [2, 20, 8, 8]             5,020\n",
       "├─Dropout2D: 1-3                         [2, 20, 8, 8]             --\n",
       "├─Linear: 1-4                            [2, 50]                   16,050\n",
       "├─Linear: 1-5                            [2, 10]                   510\n",
       "==========================================================================================\n",
       "Total params: 21,840\n",
       "Trainable params: 21,840\n",
       "Non-trainable params: 0\n",
       "Total mult-adds (k): 975.20\n",
       "==========================================================================================\n",
       "Input size (kB): 6.27\n",
       "Forward/backward pass size (kB): 113.60\n",
       "Params size (kB): 87.36\n",
       "Estimated Total Size (kB): 207.23\n",
       "=========================================================================================="
      ]
     },
     "execution_count": 3,
     "metadata": {},
     "output_type": "execute_result"
    }
   ],
   "source": [
    "summary(model, input_size=input_size)"
   ]
  },
  {
   "cell_type": "code",
   "execution_count": 4,
   "metadata": {},
   "outputs": [
    {
     "data": {
      "text/plain": [
       "4"
      ]
     },
     "execution_count": 4,
     "metadata": {},
     "output_type": "execute_result"
    }
   ],
   "source": [
    "summary(model, input_size=input_size)\n",
    "2+2"
   ]
  },
  {
   "cell_type": "code",
   "execution_count": 5,
   "metadata": {},
   "outputs": [
    {
     "name": "stdout",
     "output_type": "stream",
     "text": [
      "==========================================================================================\n",
      "Layer (type:depth-idx)                   Output Shape              Param #\n",
      "==========================================================================================\n",
      "SingleInputNet                           [2, 10]                   --\n",
      "├─Conv2D: 1-1                            [2, 10, 24, 24]           260\n",
      "├─Conv2D: 1-2                            [2, 20, 8, 8]             5,020\n",
      "├─Dropout2D: 1-3                         [2, 20, 8, 8]             --\n",
      "├─Linear: 1-4                            [2, 50]                   16,050\n",
      "├─Linear: 1-5                            [2, 10]                   510\n",
      "==========================================================================================\n",
      "Total params: 21,840\n",
      "Trainable params: 21,840\n",
      "Non-trainable params: 0\n",
      "Total mult-adds (k): 975.20\n",
      "==========================================================================================\n",
      "Input size (kB): 6.27\n",
      "Forward/backward pass size (kB): 113.60\n",
      "Params size (kB): 87.36\n",
      "Estimated Total Size (kB): 207.23\n",
      "==========================================================================================\n"
     ]
    },
    {
     "data": {
      "text/plain": [
       "4"
      ]
     },
     "execution_count": 5,
     "metadata": {},
     "output_type": "execute_result"
    }
   ],
   "source": [
    "print(summary(model, input_size=input_size))\n",
    "2+2"
   ]
  }
 ],
 "metadata": {
  "kernelspec": {
   "display_name": "ppsci_py310",
   "language": "python",
   "name": "python3"
  },
  "language_info": {
   "codemirror_mode": {
    "name": "ipython",
    "version": 3
   },
   "file_extension": ".py",
   "mimetype": "text/x-python",
   "name": "python",
   "nbconvert_exporter": "python",
   "pygments_lexer": "ipython3",
   "version": "3.10.18"
  }
 },
 "nbformat": 4,
 "nbformat_minor": 2
}
